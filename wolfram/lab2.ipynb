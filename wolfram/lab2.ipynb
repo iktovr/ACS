{
 "cells": [
  {
   "cell_type": "markdown",
   "metadata": {},
   "source": [
    "## Расширенный алгоритм Евклида"
   ]
  },
  {
   "cell_type": "code",
   "execution_count": 1,
   "metadata": {
    "scrolled": true
   },
   "outputs": [
    {
     "data": {
      "text/html": [
       "<style>\n",
       "\t\t\t\t\t\t\t\t\t\t\t\t\t.grid-container {\n",
       "\t\t\t\t\t\t\t\t\t\t\t\t\t\tdisplay: inline-grid;\n",
       "\t\t\t\t\t\t\t\t\t\t\t\t\t\tgrid-template-columns: auto;\n",
       "\t\t\t\t\t\t\t\t\t\t\t\t\t}\n",
       "\t\t\t\t\t\t\t\t\t\t\t\t</style>\n",
       "\n",
       "\t\t\t\t\t\t\t\t\t\t\t\t<div><div class=\"grid-container\"><div class=\"grid-item\"><img alt=\"Output\" src=\"data:image/png;base64,iVBORw0KGgoAAAANSUhEUgAAAOEAAAAZCAIAAABIEN5ZAAAA0XpUWHRSYXcgcHJvZmlsZSB0eXBlIGV4aWYAAHjabU9BbgQhDLvzin1CSMCB5zC7rNQf9PnrDKgVVS0RO8bJDGl+f73TI6BZUqne0AEhSi9dB0WThcVZ+l1vzM3sDz/lvv1Bq/5eYG7/On3HYm1/FokuYfEFait7YC8yXX4eq792Xkdr5yKTA95+fv3fvpgrKrIX1qLijk7dEiUJVaU63ngCDGa8VMqTPOHOMXgkbMRgQKef6ZlgNF7xBIuTbZAra7YYVTNqs8ZaTfXird2ZeM4HYulayc4gZz0AAAAJcEhZcwAAEnQAABJ0Ad5mH3gAAAA8dEVYdFNvZnR3YXJlAENyZWF0ZWQgd2l0aCB0aGUgV29sZnJhbSBMYW5ndWFnZSA6IHd3dy53b2xmcmFtLmNvbVyipoUAAAAhdEVYdENyZWF0aW9uIFRpbWUAMjAyMTowNToxNSAyMzozODo1MpNfxjUAAAPjSURBVHic7Zq9sqowEMeXO/dR8BRnfILwBGBDZWuXlNjYWdrZkFI6WysayRPIEzgWJu+SWyAe+VDCd85c/pUykf3N8ofsLoKsIe4jwFGdX4wl7iMAAPgluFJGOOEF5POxWXTTH1CWoKt1rL58RDGygqOUUkY4cAgbG6dSglqhKxPgeD37BcSDStmjgu5hmz6d9JaYbS6eCQBgu7hqsQYS/Ot4sAEAwN74CK53MTKRXlL0qKB72Hizflm6kmmayQdGHIgeV19jmbZtPj9/zWH+ZX5a/t9JyaOMrGDj/a7EMWIYTjA2RW2xMMCu9nfVsFLwKCOhexnSoYJahmHRdhuefZCS+yhw2p6oXIwYZWoZTNBdvw/+HHY/uWkmwSglllXGVNlVRYWSrufWMwnYTRDuo15wi0lJ1GqMwH3U7xiC5/oJfWYIEUYIoTdQ1R590RCzp/Tqd5S/CKsTc+WIEUY4yq1um5wI920Z7qPhXKmezB9FuPTC15g9DSFGduB3Nz0QdKdc3gm6Up36MHAvBztb/YjzKW5eSQpq/RRUjPQyfWL79Xw7UM1WI5nV0sqjjOxge1i0P01ab81uW9lDeWfbhXO2sSgjxmwdB05K7UAPXZOguwACx7AswoQ+VaiKUo8KlitYBSWWYViZm8H0Ln1c8ocSh6qe/gOwfXhuE4MNnvityqLvgV94e6MW51Py/iWOA2c2s0h1t6RkiUEkZbaWxlHmwGDvEn8ahiT4x8qpD+BW9WRV2atDhqXknEc+TgP3meFmyXxTj770TNzHCQL3ix1Bz3ot5xU8mi7sEriNRxU7szEznOV410IXFjYE7tSjhpTyecMIas3WMSCf15+HCkpWp+vnNfPtpXQbE9RawTGNmVAoQXQKHMcxQDoB+QycEyNG6Crt0GNl+A1INYcicDfJZMRwgmKov69fzMUSrWNYLpo0f1/f83nFku/Sl6mCrk7L46VJzG6B4xjQPHOsHDgvFgbYPSjFHCfDZSDeFq+dCseDOnBnySxT4RE99Gg3P1jOqGq/6BC48V5fZwQ7SobfkygVVE2AO93rM7MndoYlBohvvKnjG8j0Lu+zUrU5jAGcZ6jzhl0H4If4LUbVz3MdgF88yuh94XkuBghCBgAghN6DNC2A61hUC+CUJbziyom+HsB/GDEMiwpByX3hmY+/XAYhE4zsuanhf530AlawqAbAghHDsAgTz69W6B7fbVJjAYv7FQDi2zl/GxTrjaQqGG82UlEB9QXcqIRSqUV1yDCPnmNRQNj/HLkD4LrJLDQlr9Ezs6dJkzSUVu/rJ00q0eTRSbpr8ugk3TV5dJLu+gfsyHh0+HwQtQAAAABJRU5ErkJggg==\"></div><div class=\"grid-item\"><img alt=\"Output\" src=\"data:image/png;base64,iVBORw0KGgoAAAANSUhEUgAAAO4AAAAZCAIAAAC5G4XUAAAA0XpUWHRSYXcgcHJvZmlsZSB0eXBlIGV4aWYAAHjabU/BDQMhDPszRUdIYkhgHK5HpW7Q8ZscqBVVLREbx8kdabyej3QLCFPKxao2VXLklpt0F5UmJjO1q14YY/V49xO35Xe3yreha4CP3TedLPVnEckUiC+4Rl4DaxFk+tzn/Vh56bXui0AbrH5+/e89w0SLsmWvWchMm+uaXDppESqmD72repD1FMp356FmPqYWCfQYDMiwPT2Swo0znoA4jO5cvDJiVADXQPVaADm8iysTz3kDr41a/lUnunQAAAAJcEhZcwAAEnQAABJ0Ad5mH3gAAAA8dEVYdFNvZnR3YXJlAENyZWF0ZWQgd2l0aCB0aGUgV29sZnJhbSBMYW5ndWFnZSA6IHd3dy53b2xmcmFtLmNvbVyipoUAAAAhdEVYdENyZWF0aW9uIFRpbWUAMjAyMTowNToxNSAyMzozODo1M+RY9qMAAANXSURBVHic7Zo9duIwFIWv58xSgCKHFYgV2GmoaOnkEjd0lOlo5BJ3aVPRRF5BvIKcFCPvRVPYEJsAksH2Ezm+JUjog/erZ6DtpARDISaU5Z72pQQDl4SHAwAdgdaSO2AFR/UHVkq3b4vyt/tYjez2tK48XkYZ0dlIwyVetdZa8iQIUwqEPJ7t57pgyKIxDYS7snPldI8NmQeXyuMtNsfa0Pvp43UZw/6cmxZ3hKAmrzsfAOCvBcPnv5wGxFHZuHIevyRJ4HkeYR7I4y3WqzHZ+aNRGclpGECWHtUzgu8fs8loMsV0QpxcHJONK49WH4fK6s1iilSQhkusqcsCkIaeFyTUFACQ7hM+p4gnh2XZKwOAv9NKINr2nprTcD+n69Ar8ndaK8GSgCagj8rjl84rQxp6VRF/44ougzW8Jkre+91Z/uhNaa/vSjDqMU7nMxR1cilxZmByBaxBVi7Ve4vm72pfhEvCIQrQvE/NW81nabjEa+OM3JAhf39DzXmdKIowgDWKCYKcXBPpXPk2hlaRawlZctvPbcogOfmvfF5XwSyych7PDo2JIz0rgb47tPHXRpNMMNLQG0dZEhxAAnRz8cvjlwRJ4M1mYdpuRblTJrDSpZUUnFV7QCU4A7rvyg4iB+iIoWlGJGc46UYZN9Th3gxnAsPpIi5rL/TjSeQA3THc7EZUDMUOpaTg5v8q9G64K2CVXlkJXiAowbgkaInJAbpguKFXdoGhsvO6MxerejfcGTBPa32MqzyejaMMTKjmLXEeh8u3z+trppuP613mPQCuMmRZBjBWLY4PwVBnMaBYArdioEtgf6tvjp4XLMqweL7lajd5mk4NS55MD57vAnCVIcvAprXXHoLhyLLa8Cgw+J8tcBsGugh2Jm0TDtzIAVpnuK24u8BQ225CITFcHaw2jEvfseBA9qUsA6NtkQMMDGekvjJmyLc0wCdg3z4uhVDlY+IihJVSvQYZOUAXDDdkRBcYqjjcNFgjMtwJGCQHmFBKHMZ0JZGyf5h0LxAxQLcM1m7kAoPWSnLgewyhJL84k+jXcGYw/GxyJEd1U9ciB+iWwdqNXGDQhY8cKjbj4srhPRvOCFYbxg0a9Lhq/s+4QYOc1ODKg36JBlce9Es0uPKgX6L/7FKDPrvkWO4AAAAASUVORK5CYII=\"></div></div></div>"
      ],
      "text/plain": [
       "FormBox[RowBox[{SuperscriptBox[\"x\", \"4\"], \"-\", \n",
       "\n",
       " \n",
       ">        RowBox[{\"4\", \" \", SuperscriptBox[\"x\", \"3\"]}], \"+\", \n",
       "\n",
       " \n",
       ">        RowBox[{\"7\", \" \", SuperscriptBox[\"x\", \"2\"]}], \"-\", RowBox[{\"5\", \" \", \"x\"}],\\\n",
       " \n",
       ">    \"+\", \n",
       "     \"1\"}], TraditionalForm]\n",
       "\n",
       "FormBox[RowBox[{SuperscriptBox[\"x\", \"5\"], \"-\", SuperscriptBox[\"x\", \"4\"], \"-\", \n",
       "\n",
       " \n",
       ">        SuperscriptBox[\"x\", \"3\"], \"+\", SuperscriptBox[\"x\", \"2\"], \"+\", \n",
       "\n",
       " \n",
       ">        RowBox[{\"5\", \" \", \"x\"}], \"-\", \"5\"}], TraditionalForm]\n"
      ]
     },
     "execution_count": 4,
     "metadata": {
      "text/html": [],
      "text/plain": []
     },
     "output_type": "execute_result"
    }
   ],
   "source": [
    "x = .;\n",
    "f = x^4 - 4*x^3 + 7*x^2 - 5*x + 1;\n",
    "g = x^5 - x^4 - x^3 + x^2 + 5*x - 5;\n",
    "\n",
    "TraditionalForm[f]\n",
    "TraditionalForm[g]"
   ]
  },
  {
   "cell_type": "code",
   "execution_count": 6,
   "metadata": {},
   "outputs": [
    {
     "data": {
      "text/html": [
       "<style>\n",
       "\t\t\t\t\t\t\t\t\t\t\t\t\t.grid-container {\n",
       "\t\t\t\t\t\t\t\t\t\t\t\t\t\tdisplay: inline-grid;\n",
       "\t\t\t\t\t\t\t\t\t\t\t\t\t\tgrid-template-columns: auto;\n",
       "\t\t\t\t\t\t\t\t\t\t\t\t\t}\n",
       "\t\t\t\t\t\t\t\t\t\t\t\t</style>\n",
       "\n",
       "\t\t\t\t\t\t\t\t\t\t\t\t<div><div class=\"grid-container\"><div class=\"grid-item\"><img alt=\"Output\" src=\"data:image/png;base64,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\"></div><div class=\"grid-item\"><img alt=\"Output\" src=\"data:image/png;base64,iVBORw0KGgoAAAANSUhEUgAAADAAAAAaCAIAAAB+V0iAAAAA0XpUWHRSYXcgcHJvZmlsZSB0eXBlIGV4aWYAAHjabU9BDsMgDLvzij0BEnDgObSl0n6w589pWadOs0QcHCeBMF7PPTwckmLIxSoaEInccpPOpMYTJ6fYjnhAZ4n3mx5Sn3qnVL4FjKkvd91wstSfQVHmJt/AXPNsmINUTv2zcJl+6bXeB11vnQPq9fS/96wmKEiWGbNEMzTmNTAloUgshh0rQGPCJjGv5AEztsHcod0bHTLs7h4BSmHzL6ifpJ1cGJN6q6gyV62MRVUWVvXw+HfeTqxav+tRQP0AAAAJcEhZcwAAEnQAABJ0Ad5mH3gAAAA8dEVYdFNvZnR3YXJlAENyZWF0ZWQgd2l0aCB0aGUgV29sZnJhbSBMYW5ndWFnZSA6IHd3dy53b2xmcmFtLmNvbVyipoUAAAAhdEVYdENyZWF0aW9uIFRpbWUAMjAyMTowNToxNSAyMzozODo1M+RY9qMAAAFySURBVEiJ7ZYxcsMgEEW/PDkKSuHJCeAEUhpXad1BKZrcwF0aKEWXNr3hBOIEGReBuyiFLEeWHcmacewUeh3SrniwsKOkrmv8Jxb3FugzC40xC42xQNQsGUC4Wwv9N+ojLAdAVajvxuU7FDVLEqYjEJ1g+zIzpl08hDhxWuTmRPQLH7U4HBTGROcbk0u2FSzNjffNyHuZr3UcTunjRJJK49uh9yZPD8oThbyUxlNum5oGywH4j+0UIydyA3AV2nMRLKeA2TTrmrxD3IaqzAgAgGSvigJ+Fy5Oj3pjQFUoC0L2j0hWvivaruthqs8qI50hKaq6mJIfdh6ATBN5+m4XAHLjax+/PkcibixEHp/wa18ps78Xiu5N+u6DdEmHr8FVhdIlxc99iU6zNDfHIeT5hQJerkW3gXU53rWBTh0UBcDtUJttYrpQznkv7TSoiWxmvW7JSFEFxdv5KLehKlfngqzi9KwWknr+px5mFhpjFhrjGwQ1ftusvgynAAAAAElFTkSuQmCC\"></div></div></div>"
      ],
      "text/plain": [
       "                         2       3                  2\n",
       "          79 + 41 x - 8 x  - 21 x   40 - 55 x + 21 x\n",
       "{-1 + x, {------------------------, -----------------}}\n",
       "                    121                    121\n",
       "True"
      ]
     },
     "execution_count": 6,
     "metadata": {
      "text/html": [],
      "text/plain": []
     },
     "output_type": "execute_result"
    }
   ],
   "source": [
    "{gcd, {u, v}} = PolynomialExtendedGCD[f, g]\n",
    "Simplify[gcd == f * u + g * v]"
   ]
  },
  {
   "cell_type": "code",
   "execution_count": 8,
   "metadata": {},
   "outputs": [],
   "source": [
    "extGcd[aa_, bb_] := Module[{a=aa, b=bb, x0=1, xx=0, y0=0, yy = 1, q, r},\n",
    "    While[Not[SameQ[b, 0]],\n",
    "        q = PolynomialQuotient[a, b, x];\n",
    "        r = PolynomialRemainder[a, b, x];\n",
    "        {a, b} = {b, r};\n",
    "        {x0, xx} = {xx, (x0 - xx*q)//ExpandAll};\n",
    "        {y0, yy} = {yy, (y0 - yy*q)//ExpandAll};\n",
    "    ];\n",
    "    {a, x0, y0}\n",
    "];"
   ]
  },
  {
   "cell_type": "code",
   "execution_count": 9,
   "metadata": {
    "scrolled": true
   },
   "outputs": [
    {
     "data": {
      "text/html": [
       "<style>\n",
       "\t\t\t\t\t\t\t\t\t\t\t\t\t.grid-container {\n",
       "\t\t\t\t\t\t\t\t\t\t\t\t\t\tdisplay: inline-grid;\n",
       "\t\t\t\t\t\t\t\t\t\t\t\t\t\tgrid-template-columns: auto;\n",
       "\t\t\t\t\t\t\t\t\t\t\t\t\t}\n",
       "\t\t\t\t\t\t\t\t\t\t\t\t</style>\n",
       "\n",
       "\t\t\t\t\t\t\t\t\t\t\t\t<div><div class=\"grid-container\"><div class=\"grid-item\"><img alt=\"Output\" src=\"data:image/png;base64,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\"></div><div class=\"grid-item\"><img alt=\"Output\" src=\"data:image/png;base64,iVBORw0KGgoAAAANSUhEUgAAADAAAAAaCAIAAAB+V0iAAAAA0XpUWHRSYXcgcHJvZmlsZSB0eXBlIGV4aWYAAHjabU9RDkIhDPvnFB4BttHBcXiKiTfw+HbvoeYZm7COrtsgzefjni4BKTlZ9YYOZMK6dRlMWj5wcMl9jzt0lXg/6amMpQ9K9VvAXPp21h0HS/sZlGVtig3M1VbDGqRy6O+F2/LLaO086PPWNaB9nv73buqCiuLGaJLd0Zm3xJSEKrk67rgCNBbcJNuVPOHONng4dERjQKaf3TNBKdziCxqn6CBXxqLRKqrMVRtjVZONVd098Z0XTrxawE4rLdAAAAAJcEhZcwAAEnQAABJ0Ad5mH3gAAAA8dEVYdFNvZnR3YXJlAENyZWF0ZWQgd2l0aCB0aGUgV29sZnJhbSBMYW5ndWFnZSA6IHd3dy53b2xmcmFtLmNvbVyipoUAAAAhdEVYdENyZWF0aW9uIFRpbWUAMjAyMTowNToxNSAyMzozODo1NHo8YwAAAAFySURBVEiJ7ZYxcsMgEEW/PDkKSuHJCeAEUhpXad1BKZrcwF0aKEWXNr3hBOIEGReBuyiFLEeWHcmacewUeh3SrniwsKOkrmv8Jxb3FugzC40xC42xQNQsGUC4Wwv9N+ojLAdAVajvxuU7FDVLEqYjEJ1g+zIzpl08hDhxWuTmRPQLH7U4HBTGROcbk0u2FSzNjffNyHuZr3UcTunjRJJK49uh9yZPD8oThbyUxlNum5oGywH4j+0UIydyA3AV2nMRLKeA2TTrmrxD3IaqzAgAgGSvigJ+Fy5Oj3pjQFUoC0L2j0hWvivaruthqs8qI50hKaq6mJIfdh6ATBN5+m4XAHLjax+/PkcibixEHp/wa18ps78Xiu5N+u6DdEmHr8FVhdIlxc99iU6zNDfHIeT5hQJerkW3gXU53rWBTh0UBcDtUJttYrpQznkv7TSoiWxmvW7JSFEFxdv5KLehKlfngqzi9KwWknr+px5mFhpjFhrjGwQ1ftusvgynAAAAAElFTkSuQmCC\"></div></div></div>"
      ],
      "text/plain": [
       "                                       2       3                    2\n",
       "   1936    1936 x  1264   656 x   128 x    16 x   640   880 x   16 x\n",
       "{-(----) + ------, ---- + ----- - ------ - -----, --- - ----- + -----}\n",
       "   441      441    441     441     441      21    441    441     21\n",
       "True"
      ]
     },
     "execution_count": 9,
     "metadata": {
      "text/html": [],
      "text/plain": []
     },
     "output_type": "execute_result"
    }
   ],
   "source": [
    "{gcd, u, v} = extGcd[f, g]\n",
    "Simplify[gcd == f * u + g * v]"
   ]
  }
 ],
 "metadata": {
  "kernelspec": {
   "display_name": "Wolfram Language 12.2",
   "language": "Wolfram Language",
   "name": "wolframlanguage12.2"
  },
  "language_info": {
   "codemirror_mode": "mathematica",
   "file_extension": ".m",
   "mimetype": "application/vnd.wolfram.m",
   "name": "Wolfram Language",
   "pygments_lexer": "mathematica",
   "version": "12.0"
  }
 },
 "nbformat": 4,
 "nbformat_minor": 2
}
